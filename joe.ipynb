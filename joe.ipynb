{
 "cells": [
  {
   "cell_type": "code",
   "execution_count": 159,
   "metadata": {},
   "outputs": [],
   "source": [
    "import os\n",
    "import pandas as pd"
   ]
  },
  {
   "cell_type": "code",
   "execution_count": 160,
   "metadata": {},
   "outputs": [],
   "source": [
    "def get_game_codes():\n",
    "\n",
    "    directory = './demo_data/'\n",
    "\n",
    "    files = os.listdir(directory)\n",
    "\n",
    "    game_codes = []\n",
    "\n",
    "    for file in files:\n",
    "        game_code = file.split('_')[0]\n",
    "        game_codes.append(game_code)\n",
    "\n",
    "    game_codes = list(set(game_codes))\n",
    "\n",
    "    return game_codes"
   ]
  },
  {
   "cell_type": "code",
   "execution_count": 161,
   "metadata": {},
   "outputs": [],
   "source": [
    "def get_data(game_code, event_type):\n",
    "\n",
    "    directory = './demo_data/'\n",
    "\n",
    "    filename = f'{directory}{game_code}_{event_type}.txt'\n",
    "\n",
    "    df = pd.read_csv(filename, sep='\\t')\n",
    "\n",
    "    return df"
   ]
  },
  {
   "cell_type": "code",
   "execution_count": 162,
   "metadata": {},
   "outputs": [],
   "source": [
    "def save_df_translated(game_code, event_type, df):\n",
    "\n",
    "    directory = './data_translated/'\n",
    "\n",
    "    filename = f'{directory}{game_code}_{event_type}.csv'\n",
    "\n",
    "    df.to_csv(filename)"
   ]
  },
  {
   "cell_type": "code",
   "execution_count": 163,
   "metadata": {},
   "outputs": [],
   "source": [
    "def translate_meta(game_code, event_type):\n",
    "\n",
    "    df = get_data(game_code, event_type)\n",
    "\n",
    "    # English translations\n",
    "    english_translations = {\n",
    "    'codigo': 'code',\n",
    "    'tipo': 'type',\n",
    "    'equipo': 'team',\n",
    "    'player': 'player',\n",
    "    'x': 'x',\n",
    "    'y': 'y',\n",
    "    'min': 'minute',\n",
    "    'sec': 'second',\n",
    "    'period': 'period',\n",
    "    'partido': 'match',\n",
    "    'nombre_equipo': 'team_name',\n",
    "    'nombre_jugador': 'player_name',\n",
    "    'outcome': 'outcome',\n",
    "    'fase': 'phase',\n",
    "    'end_x': 'end_x',\n",
    "    'end_y': 'end_y',\n",
    "    'extra': 'extra'\n",
    "    }\n",
    "\n",
    "    # Renaming the columns based on the English translations\n",
    "    df.rename(columns=english_translations, inplace=True)\n",
    "\n",
    "    return df"
   ]
  },
  {
   "cell_type": "code",
   "execution_count": 164,
   "metadata": {},
   "outputs": [],
   "source": [
    "def translate_type(row):\n",
    "\n",
    "    translations = {\n",
    "        'pase': 'pass',\n",
    "        'pase_fallado': 'failed_pass',\n",
    "        'balon_fuera': 'ball_out',\n",
    "        'recuperacion_balon': 'ball_recovery',\n",
    "        'falta_recibida': 'foul_received',\n",
    "        'falta_cometida': 'foul_committed',\n",
    "        'bloqueo_pase': 'pass_block',\n",
    "        'regate_recibido': 'dribble_received',\n",
    "        'regate_conseguido': 'dribble_successful',\n",
    "        'toco_balon': 'touched_ball',\n",
    "        'duelo_aereo': 'aerial_duel',\n",
    "        'ocasion_fuera': 'chance_missed',\n",
    "        'despeje': 'clearance',\n",
    "        'corner': 'corner_kick',\n",
    "        'portero_agarrra_pelota': 'goalkeeper_catches_ball',\n",
    "        'regate_fallado': 'failed_dribble',\n",
    "        'entrada': 'tackle',\n",
    "        'sin_identificar': 'unidentified',\n",
    "        'pase_cortado': 'cut_pass',\n",
    "        'pase_fuera_juego': 'offside_pass',\n",
    "        'me_roban_balon': 'ball_stolen',\n",
    "        'gol': 'goal',\n",
    "        'parada': 'save',\n",
    "        'disparo_parado': 'shot_blocked',\n",
    "        'tarjeta': 'card',\n",
    "        'portero_sale_despeja': 'goalkeeper_clears_ball',\n",
    "        'cambio_jugador_fuera': 'substitution_out',\n",
    "        'cambio_jugador_dentro': 'substitution_in',\n",
    "        'perdida_golpeo_rival': 'loss_due_to_opponent_strike'\n",
    "    }\n",
    "    \n",
    "    row['type'] = translations.get(row['type'], row['type'])\n",
    "\n",
    "    return row['type']"
   ]
  },
  {
   "cell_type": "code",
   "execution_count": 165,
   "metadata": {},
   "outputs": [],
   "source": [
    "def translate_types(game_code, event_type, df):\n",
    "\n",
    "    df['type'] = df.apply(lambda row: translate_type(row), axis=1)\n",
    "\n",
    "    return df"
   ]
  },
  {
   "cell_type": "code",
   "execution_count": 189,
   "metadata": {},
   "outputs": [],
   "source": [
    "def translate_files(game_code, event_type='all_events'):\n",
    "\n",
    "    df = translate_meta(game_code, event_type)\n",
    "\n",
    "    if event_type in ['all_events','key_event']:\n",
    "        df = translate_types(game_code, event_type, df)\n",
    "\n",
    "    save_df_translated(game_code, event_type, df)"
   ]
  },
  {
   "cell_type": "code",
   "execution_count": 170,
   "metadata": {},
   "outputs": [],
   "source": [
    "def get_data_translated(game_code, event_type='all_events'):\n",
    "\n",
    "    get_data(game_code, event_type)\n",
    "\n",
    "    translate_files(game_code, event_type)\n",
    "    \n",
    "    directory = './data_translated/'\n",
    "\n",
    "    filename = f'{directory}{game_code}_{event_type}.csv'\n",
    "\n",
    "    df = pd.read_csv(filename)\n",
    "\n",
    "    return df"
   ]
  },
  {
   "cell_type": "code",
   "execution_count": 190,
   "metadata": {},
   "outputs": [],
   "source": [
    "game_codes = get_game_codes()\n",
    "\n",
    "events = get_data_translated(game_codes[0], event_type='key_event')"
   ]
  },
  {
   "cell_type": "code",
   "execution_count": 191,
   "metadata": {},
   "outputs": [
    {
     "data": {
      "text/plain": [
       "array(['0ball_out', '0aerial_duel_lost', '0blocked_pass', '0mal_control',\n",
       "       'miss', '0despeje_clearance', '0interception', '0dispossessed',\n",
       "       'goal', 'attempt_saved', 'player_off', 'player_in',\n",
       "       '0me_cortan_balon_cuerpo'], dtype=object)"
      ]
     },
     "execution_count": 191,
     "metadata": {},
     "output_type": "execute_result"
    }
   ],
   "source": [
    "events.type.unique()"
   ]
  },
  {
   "cell_type": "code",
   "execution_count": 17,
   "metadata": {},
   "outputs": [
    {
     "data": {
      "text/plain": [
       "0.0"
      ]
     },
     "execution_count": 17,
     "metadata": {},
     "output_type": "execute_result"
    }
   ],
   "source": [
    "from config import PitchMeta\n",
    "import numpy as np\n",
    "import itertools\n",
    "\n",
    "pitch_graph = {i: [0, 0, np.zeros(shape=[PitchMeta.x * PitchMeta.y])] for i in range(PitchMeta.x * PitchMeta.y)}\n",
    "pitch_graph[2][2][0]\n"
   ]
  },
  {
   "cell_type": "code",
   "execution_count": 119,
   "metadata": {},
   "outputs": [],
   "source": [
    "from data_type import PlayerCoordinate\n",
    "\n",
    "def get_the_closest_tile(player_coordinate: PlayerCoordinate):\n",
    "    # the pitch size is 100 * 100, and converted to 16 * 12\n",
    "    tile_x = round(player_coordinate.x / (100 / PitchMeta.x))\n",
    "    tile_y = round(player_coordinate.y / (100 / PitchMeta.y))\n",
    "    if tile_x == 16:\n",
    "        tile_x = 15\n",
    "    if tile_y == 12:\n",
    "        tile_y = 11\n",
    "\n",
    "    if tile_y == 0:\n",
    "        tile_id = tile_x\n",
    "    else:\n",
    "        tile_id =  tile_y * PitchMeta.x + tile_x\n",
    "    \n",
    "    return tile_x, tile_y, tile_id\n",
    "    #return tile_id"
   ]
  },
  {
   "cell_type": "code",
   "execution_count": 120,
   "metadata": {},
   "outputs": [
    {
     "name": "stdout",
     "output_type": "stream",
     "text": [
      "Player Coordinate: (0, 0)\n",
      "Tile Coordinates: (0, 0)\n",
      "Tile ID: 0\n",
      "------\n",
      "Player Coordinate: (100, 0)\n",
      "Tile Coordinates: (15, 0)\n",
      "Tile ID: 15\n",
      "------\n",
      "Player Coordinate: (0, 100)\n",
      "Tile Coordinates: (0, 11)\n",
      "Tile ID: 176\n",
      "------\n",
      "Player Coordinate: (100, 100)\n",
      "Tile Coordinates: (15, 11)\n",
      "Tile ID: 191\n",
      "------\n",
      "Player Coordinate: (50, 50)\n",
      "Tile Coordinates: (8, 6)\n",
      "Tile ID: 104\n",
      "------\n"
     ]
    }
   ],
   "source": [
    "# Test the four corners of the pitch\n",
    "corners = [\n",
    "    PlayerCoordinate(0, 0),\n",
    "    PlayerCoordinate(100, 0),\n",
    "    PlayerCoordinate(0, 100),\n",
    "    PlayerCoordinate(100, 100),\n",
    "    PlayerCoordinate(50, 50)\n",
    "]\n",
    "\n",
    "for corner in corners:\n",
    "    tile_x, tile_y, tile_id = get_the_closest_tile(corner)\n",
    "    print(f\"Player Coordinate: ({corner.x}, {corner.y})\")\n",
    "    print(f\"Tile Coordinates: ({tile_x}, {tile_y})\")\n",
    "    print(f\"Tile ID: {tile_id}\")\n",
    "    print(\"------\")"
   ]
  },
  {
   "cell_type": "code",
   "execution_count": 121,
   "metadata": {},
   "outputs": [
    {
     "data": {
      "text/plain": [
       "16"
      ]
     },
     "execution_count": 121,
     "metadata": {},
     "output_type": "execute_result"
    }
   ],
   "source": [
    "int(16.6)"
   ]
  }
 ],
 "metadata": {
  "kernelspec": {
   "display_name": "Python 3",
   "language": "python",
   "name": "python3"
  },
  "language_info": {
   "codemirror_mode": {
    "name": "ipython",
    "version": 3
   },
   "file_extension": ".py",
   "mimetype": "text/x-python",
   "name": "python",
   "nbconvert_exporter": "python",
   "pygments_lexer": "ipython3",
   "version": "3.11.7"
  }
 },
 "nbformat": 4,
 "nbformat_minor": 2
}
