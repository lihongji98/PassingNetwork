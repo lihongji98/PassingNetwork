{
 "cells": [
  {
   "cell_type": "code",
   "execution_count": 159,
   "metadata": {},
   "outputs": [],
   "source": [
    "import os\n",
    "import pandas as pd"
   ]
  },
  {
   "cell_type": "code",
   "execution_count": 160,
   "metadata": {},
   "outputs": [],
   "source": [
    "def get_game_codes():\n",
    "\n",
    "    directory = './demo_data/'\n",
    "\n",
    "    files = os.listdir(directory)\n",
    "\n",
    "    game_codes = []\n",
    "\n",
    "    for file in files:\n",
    "        game_code = file.split('_')[0]\n",
    "        game_codes.append(game_code)\n",
    "\n",
    "    game_codes = list(set(game_codes))\n",
    "\n",
    "    return game_codes"
   ]
  },
  {
   "cell_type": "code",
   "execution_count": 161,
   "metadata": {},
   "outputs": [],
   "source": [
    "def get_data(game_code, event_type):\n",
    "\n",
    "    directory = './demo_data/'\n",
    "\n",
    "    filename = f'{directory}{game_code}_{event_type}.txt'\n",
    "\n",
    "    df = pd.read_csv(filename, sep='\\t')\n",
    "\n",
    "    return df"
   ]
  },
  {
   "cell_type": "code",
   "execution_count": 162,
   "metadata": {},
   "outputs": [],
   "source": [
    "def save_df_translated(game_code, event_type, df):\n",
    "\n",
    "    directory = './data_translated/'\n",
    "\n",
    "    filename = f'{directory}{game_code}_{event_type}.csv'\n",
    "\n",
    "    df.to_csv(filename)"
   ]
  },
  {
   "cell_type": "code",
   "execution_count": 163,
   "metadata": {},
   "outputs": [],
   "source": [
    "def translate_meta(game_code, event_type):\n",
    "\n",
    "    df = get_data(game_code, event_type)\n",
    "\n",
    "    # English translations\n",
    "    english_translations = {\n",
    "    'codigo': 'code',\n",
    "    'tipo': 'type',\n",
    "    'equipo': 'team',\n",
    "    'player': 'player',\n",
    "    'x': 'x',\n",
    "    'y': 'y',\n",
    "    'min': 'minute',\n",
    "    'sec': 'second',\n",
    "    'period': 'period',\n",
    "    'partido': 'match',\n",
    "    'nombre_equipo': 'team_name',\n",
    "    'nombre_jugador': 'player_name',\n",
    "    'outcome': 'outcome',\n",
    "    'fase': 'phase',\n",
    "    'end_x': 'end_x',\n",
    "    'end_y': 'end_y',\n",
    "    'extra': 'extra'\n",
    "    }\n",
    "\n",
    "    # Renaming the columns based on the English translations\n",
    "    df.rename(columns=english_translations, inplace=True)\n",
    "\n",
    "    return df"
   ]
  },
  {
   "cell_type": "code",
   "execution_count": 164,
   "metadata": {},
   "outputs": [],
   "source": [
    "event_code_meanings = {\n",
    "    1: \"pass\",\n",
    "    2: \"offside_pass\",\n",
    "    3: \"take_on\",\n",
    "    4: \"foul\",\n",
    "    5: \"out\",\n",
    "    6: \"corner\",\n",
    "    7: \"tackle\",\n",
    "    8: \"interception\",\n",
    "    9: \"turnover\",\n",
    "    10: \"save\",\n",
    "    11: \"claim\",\n",
    "    12: \"clearance\",\n",
    "    13: \"miss\",\n",
    "    14: \"post\",\n",
    "    15: \"attempt_saved\",\n",
    "    16: \"goal\",\n",
    "    17: \"card\",\n",
    "    18: \"player_off\",\n",
    "    19: \"player_on\",\n",
    "    20: \"player_retired\",\n",
    "    21: \"player_returns\",\n",
    "    22: \"player_becomes_goalkeeper\",\n",
    "    23: \"goalkeeper_becomes_player\",\n",
    "    24: \"condition_change\",\n",
    "    25: \"official_change\",\n",
    "    27: \"start_delay\",\n",
    "    28: \"end_delay\",\n",
    "    30: \"end\",\n",
    "    32: \"start\",\n",
    "    34: \"team_setup\",\n",
    "    35: \"player_changed_position\",\n",
    "    36: \"player_changed_jersey_number\",\n",
    "    37: \"collection_end\",\n",
    "    38: \"temporary_goal\",\n",
    "    39: \"temporary_attempt\",\n",
    "    40: \"formation_change\",\n",
    "    41: \"punch\",\n",
    "    42: \"good_skill\",\n",
    "    43: \"deleted_event\",\n",
    "    44: \"aerial_duel\",\n",
    "    45: \"challenge\",\n",
    "    47: \"rescinded_card\",\n",
    "    49: \"ball_recovery\",\n",
    "    50: \"dispossessed\",\n",
    "    51: \"error\",\n",
    "    52: \"keeper_pick-up\",\n",
    "    53: \"cross_not_claimed\",\n",
    "    54: \"smother\",\n",
    "    55: \"offside_provoked\",\n",
    "    56: \"shield_ball_opponent\",\n",
    "    57: \"foul_throw-in\",\n",
    "    58: \"penalty_faced\",\n",
    "    59: \"keeper_sweeper\",\n",
    "    60: \"chance_missed\",\n",
    "    61: \"ball_touch\",\n",
    "    63: \"temporary_save\",\n",
    "    64: \"resume\",\n",
    "    65: \"contentious_referee_decision\",\n",
    "    66: \"possession_data\",\n",
    "    67: \"50/50\",\n",
    "    68: \"referee_drop_ball\",\n",
    "    69: \"failed_to_block\",\n",
    "    70: \"injury_time_announcement\",\n",
    "    71: \"coach_setup\",\n",
    "    72: \"caught_offside\",\n",
    "    73: \"other_ball_contact\",\n",
    "    74: \"blocked_pass\",\n",
    "    75: \"delayed_start\",\n",
    "    76: \"early_end\",\n",
    "    77: \"player_off_pitch\"\n",
    "}\n"
   ]
  },
  {
   "cell_type": "code",
   "execution_count": 165,
   "metadata": {},
   "outputs": [],
   "source": [
    "def translate_types(game_code, event_type, df):\n",
    "\n",
    "\n",
    "    df['type'] = df.apply(lambda row: translate_type(row), axis=1)\n",
    "\n",
    "    return df"
   ]
  },
  {
   "cell_type": "code",
   "execution_count": 189,
   "metadata": {},
   "outputs": [],
   "source": [
    "def translate_files(game_code, event_type='all_events'):\n",
    "\n",
    "    df = translate_meta(game_code, event_type)\n",
    "\n",
    "    if event_type in ['all_events','key_event']:\n",
    "        df = translate_types(game_code, event_type, df)\n",
    "\n",
    "    save_df_translated(game_code, event_type, df)"
   ]
  },
  {
   "cell_type": "code",
   "execution_count": 170,
   "metadata": {},
   "outputs": [],
   "source": [
    "def get_data_translated(game_code, event_type='all_events'):\n",
    "\n",
    "    get_data(game_code, event_type)\n",
    "\n",
    "    translate_files(game_code, event_type)\n",
    "    \n",
    "    directory = './data_translated/'\n",
    "\n",
    "    filename = f'{directory}{game_code}_{event_type}.csv'\n",
    "\n",
    "    df = pd.read_csv(filename)\n",
    "\n",
    "    return df"
   ]
  },
  {
   "cell_type": "code",
   "execution_count": 190,
   "metadata": {},
   "outputs": [],
   "source": [
    "game_codes = get_game_codes()\n",
    "\n",
    "events = get_data_translated(game_codes[0], event_type='key_event')"
   ]
  },
  {
   "cell_type": "code",
   "execution_count": 191,
   "metadata": {},
   "outputs": [
    {
     "data": {
      "text/plain": [
       "array(['0ball_out', '0aerial_duel_lost', '0blocked_pass', '0mal_control',\n",
       "       'miss', '0despeje_clearance', '0interception', '0dispossessed',\n",
       "       'goal', 'attempt_saved', 'player_off', 'player_in',\n",
       "       '0me_cortan_balon_cuerpo'], dtype=object)"
      ]
     },
     "execution_count": 191,
     "metadata": {},
     "output_type": "execute_result"
    }
   ],
   "source": [
    "events.type.unique()"
   ]
  },
  {
   "cell_type": "code",
   "execution_count": 17,
   "metadata": {},
   "outputs": [
    {
     "data": {
      "text/plain": [
       "0.0"
      ]
     },
     "execution_count": 17,
     "metadata": {},
     "output_type": "execute_result"
    }
   ],
   "source": [
    "from config import PitchMeta\n",
    "import numpy as np\n",
    "import itertools\n",
    "\n",
    "pitch_graph = {i: [0, 0, np.zeros(shape=[PitchMeta.x * PitchMeta.y])] for i in range(PitchMeta.x * PitchMeta.y)}\n",
    "pitch_graph[2][2][0]\n"
   ]
  },
  {
   "cell_type": "code",
   "execution_count": 119,
   "metadata": {},
   "outputs": [],
   "source": [
    "from data_type import PlayerCoordinate\n",
    "\n",
    "def get_the_closest_tile(player_coordinate: PlayerCoordinate):\n",
    "    # the pitch size is 100 * 100, and converted to 16 * 12\n",
    "    tile_x = round(player_coordinate.x / (100 / PitchMeta.x))\n",
    "    tile_y = round(player_coordinate.y / (100 / PitchMeta.y))\n",
    "    if tile_x == 16:\n",
    "        tile_x = 15\n",
    "    if tile_y == 12:\n",
    "        tile_y = 11\n",
    "\n",
    "    if tile_y == 0:\n",
    "        tile_id = tile_x\n",
    "    else:\n",
    "        tile_id =  tile_y * PitchMeta.x + tile_x\n",
    "    \n",
    "    return tile_x, tile_y, tile_id\n",
    "    #return tile_id"
   ]
  },
  {
   "cell_type": "code",
   "execution_count": 120,
   "metadata": {},
   "outputs": [
    {
     "name": "stdout",
     "output_type": "stream",
     "text": [
      "Player Coordinate: (0, 0)\n",
      "Tile Coordinates: (0, 0)\n",
      "Tile ID: 0\n",
      "------\n",
      "Player Coordinate: (100, 0)\n",
      "Tile Coordinates: (15, 0)\n",
      "Tile ID: 15\n",
      "------\n",
      "Player Coordinate: (0, 100)\n",
      "Tile Coordinates: (0, 11)\n",
      "Tile ID: 176\n",
      "------\n",
      "Player Coordinate: (100, 100)\n",
      "Tile Coordinates: (15, 11)\n",
      "Tile ID: 191\n",
      "------\n",
      "Player Coordinate: (50, 50)\n",
      "Tile Coordinates: (8, 6)\n",
      "Tile ID: 104\n",
      "------\n"
     ]
    }
   ],
   "source": [
    "# Test the four corners of the pitch\n",
    "corners = [\n",
    "    PlayerCoordinate(0, 0),\n",
    "    PlayerCoordinate(100, 0),\n",
    "    PlayerCoordinate(0, 100),\n",
    "    PlayerCoordinate(100, 100),\n",
    "    PlayerCoordinate(50, 50)\n",
    "]\n",
    "\n",
    "for corner in corners:\n",
    "    tile_x, tile_y, tile_id = get_the_closest_tile(corner)\n",
    "    print(f\"Player Coordinate: ({corner.x}, {corner.y})\")\n",
    "    print(f\"Tile Coordinates: ({tile_x}, {tile_y})\")\n",
    "    print(f\"Tile ID: {tile_id}\")\n",
    "    print(\"------\")"
   ]
  },
  {
   "cell_type": "code",
   "execution_count": 21,
   "metadata": {},
   "outputs": [],
   "source": [
    "def shot_map(events):\n",
    "\n",
    "    # Find shots for each team\n",
    "    from mplsoccer import Pitch\n",
    "\n",
    "    # create shots dataframe for given team\n",
    "    shots = events[events['codigo'].isin([13, 14 ,15, 16])]\n",
    " \n",
    "    # create dataframe of goals\n",
    "    goals = shots[shots['codigo'] == 16]\n",
    "\n",
    "    # plot pitch\n",
    "    pitch = Pitch(pitch_type='opta')\n",
    "\n",
    "    fig, ax = pitch.draw(figsize=[10,8])\n",
    "\n",
    "    # plot shots\n",
    "    sc = pitch.scatter(shots['x'], shots['y'],\n",
    "                       c='grey',\n",
    "                       edgecolors='#383838',\n",
    "                       ax=ax)\n",
    "\n",
    "    # plot goals\n",
    "    sc = pitch.scatter(goals['x'], goals['y'],\n",
    "                       c= 'red',\n",
    "                       edgecolors='#383838',\n",
    "                       ax=ax)\n",
    "\n",
    "    return fig, ax"
   ]
  },
  {
   "cell_type": "code",
   "execution_count": 22,
   "metadata": {},
   "outputs": [
    {
     "data": {
      "image/png": "[encoded data removed]",
      "text/plain": [
       "<Figure size 1000x800 with 1 Axes>"
      ]
     },
     "metadata": {},
     "output_type": "display_data"
    }
   ],
   "source": [
    "import pandas as pd\n",
    "events = pd.read_csv('./demo_data/2372222_all_events.txt', sep='\\t')\n",
    "\n",
    "fig, ax = shot_map(events)"
   ]
  },
  {
   "cell_type": "code",
   "execution_count": 23,
   "metadata": {},
   "outputs": [
    {
     "name": "stdout",
     "output_type": "stream",
     "text": [
      "4\n"
     ]
    }
   ],
   "source": [
    "import random\n",
    "\n",
    "my_dict = {\n",
    "    'key1': random.randint(1, 100),\n",
    "    'key2': random.uniform(0.0, 1.0),\n",
    "    'key3': random.choice(['apple', 'banana', 'orange']),\n",
    "    'key4': random.random()\n",
    "}\n",
    "\n",
    "print(len(my_dict))\n"
   ]
  },
  {
   "cell_type": "code",
   "execution_count": null,
   "metadata": {},
   "outputs": [],
   "source": []
  }
 ],
 "metadata": {
  "kernelspec": {
   "display_name": "Python 3",
   "language": "python",
   "name": "python3"
  },
  "language_info": {
   "codemirror_mode": {
    "name": "ipython",
    "version": 3
   },
   "file_extension": ".py",
   "mimetype": "text/x-python",
   "name": "python",
   "nbconvert_exporter": "python",
   "pygments_lexer": "ipython3",
   "version": "3.11.7"
  }
 },
 "nbformat": 4,
 "nbformat_minor": 2
}
